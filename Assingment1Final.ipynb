{
  "nbformat": 4,
  "nbformat_minor": 0,
  "metadata": {
    "colab": {
      "provenance": [],
      "include_colab_link": true
    },
    "kernelspec": {
      "name": "python3",
      "display_name": "Python 3"
    },
    "language_info": {
      "name": "python"
    }
  },
  "cells": [
    {
      "cell_type": "markdown",
      "metadata": {
        "id": "view-in-github",
        "colab_type": "text"
      },
      "source": [
        "<a href=\"https://colab.research.google.com/github/elyaziaa/app.test/blob/main/Assingment1Final.ipynb\" target=\"_parent\"><img src=\"https://colab.research.google.com/assets/colab-badge.svg\" alt=\"Open In Colab\"/></a>"
      ]
    },
    {
      "cell_type": "markdown",
      "source": [
        "# Setting Up API keys & Checking for successful retrieval"
      ],
      "metadata": {
        "id": "oQPkn1dqBjRZ"
      }
    },
    {
      "cell_type": "code",
      "execution_count": 1,
      "metadata": {
        "colab": {
          "base_uri": "https://localhost:8080/"
        },
        "id": "4Vx4GluRJ5PN",
        "outputId": "b11a22ff-e380-4dee-904c-4234db72337d"
      },
      "outputs": [
        {
          "output_type": "stream",
          "name": "stdout",
          "text": [
            "successful retrival of Key (Weather API)\n",
            "successful retrival of Key (Spotify API)\n"
          ]
        }
      ],
      "source": [
        "#Done by: Elyazia Abbas and Aysa Binte Masud\n",
        "\n",
        "from google.colab import userdata\n",
        "\n",
        "\n",
        "WEATHER_API_KEY = userdata.get('WEATHER_API_KEY') # weather API from the weath io website\n",
        "#The combination of spotify client ID and Client Secrete fromt he spotify API\n",
        "SPOTIFY_CLIENT_ID = userdata.get('SPOTIFY_CLIENT_ID')\n",
        "SPOTIFY_CLIENT_SECRET = userdata.get('SPOTIFY_CLIENT_SECRET')\n",
        "\n",
        "#Below we are checking if the retrieval of each key is successful\n",
        "if WEATHER_API_KEY:\n",
        "  print('successful retrival of Key (Weather API)')\n",
        "else:\n",
        "    print('failed retrival of Key (Weather API)')\n",
        "\n",
        "if SPOTIFY_CLIENT_ID and SPOTIFY_CLIENT_SECRET:\n",
        "  print('successful retrival of Key (Spotify API)')\n",
        "else:\n",
        "    print('failed retrival of Key (Spotify API)')\n",
        "\n"
      ]
    },
    {
      "cell_type": "markdown",
      "source": [
        "# Working with our First API: The Weather API"
      ],
      "metadata": {
        "id": "P9KLZXIsBiMv"
      }
    },
    {
      "cell_type": "code",
      "source": [
        "import requests #importing requests library, so we need a URL\n",
        "url = 'https://api.tomorrow.io/v4/locations?apikey=LDZST5GCA7SXyaQ1kZNmGTJUEO8MMPGd' #URL provided by API provider\n",
        "r = requests.get(url)\n",
        "data = r.json()\n",
        "print(data) #while printing the data we find that the locations are not predefined, and according to the website the parameters required ar latitude and longitude so we limit our user to only input states in the USA(we use a dictionary to hardcode these longitude and latitude params)"
      ],
      "metadata": {
        "colab": {
          "base_uri": "https://localhost:8080/"
        },
        "id": "v1vDbIVfLoUZ",
        "outputId": "84565bb7-0650-4d3b-8ee5-f23faaa0c1a9"
      },
      "execution_count": 2,
      "outputs": [
        {
          "output_type": "stream",
          "name": "stdout",
          "text": [
            "{'data': {'locations': []}, 'meta': {'totalItems': 0}, 'links': {'self': '/v4/locations?limit=10&offset=0'}}\n"
          ]
        }
      ]
    },
    {
      "cell_type": "markdown",
      "source": [],
      "metadata": {
        "id": "IQSwbN1KDl9e"
      }
    },
    {
      "cell_type": "code",
      "source": [
        "# dictionary of all U.S. states mapped to the latitude and longitude of their capitals\n",
        "state_coords = {\n",
        "    'alabama': (32.377716, -86.300568),  # Montgomery\n",
        "    'alaska': (58.301598, -134.420212),  # Juneau\n",
        "    'arizona': (33.448376, -112.074036),  # Phoenix\n",
        "    'arkansas': (34.746613, -92.288986),  # Little Rock\n",
        "    'california': (38.576668, -121.493629),  # Sacramento\n",
        "    'colorado': (39.739227, -104.990250),  # Denver\n",
        "    'connecticut': (41.765804, -72.673372),  # Hartford\n",
        "    'delaware': (39.157307, -75.519722),  # Dover\n",
        "    'florida': (30.438118, -84.281296),  # Tallahassee\n",
        "    'georgia': (33.749027, -84.388229),  # Atlanta\n",
        "    'hawaii': (21.307442, -157.857376),  # Honolulu\n",
        "    'idaho': (43.617775, -116.199722),  # Boise\n",
        "    'illinois': (39.798363, -89.654961),  # Springfield\n",
        "    'indiana': (39.768623, -86.162643),  # Indianapolis\n",
        "    'iowa': (41.591087, -93.603729),  # Des Moines\n",
        "    'kansas': (39.048191, -95.677956),  # Topeka\n",
        "    'kentucky': (38.186722, -84.875374),  # Frankfort\n",
        "    'louisiana': (30.457069, -91.187393),  # Baton Rouge\n",
        "    'maine': (44.307167, -69.781693),  # Augusta\n",
        "    'maryland': (38.978764, -76.490936),  # Annapolis\n",
        "    'massachusetts': (42.360253, -71.058291),  # Boston\n",
        "    'michigan': (42.733635, -84.555328),  # Lansing\n",
        "    'minnesota': (44.955097, -93.102211),  # St. Paul\n",
        "    'mississippi': (32.298756, -90.184807),  # Jackson\n",
        "    'missouri': (38.579201, -92.172935),  # Jefferson City\n",
        "    'montana': (46.585709, -112.018417),  # Helena\n",
        "    'nebraska': (40.808075, -96.699654),  # Lincoln\n",
        "    'nevada': (39.163914, -119.766121),  # Carson City\n",
        "    'new hampshire': (43.206898, -71.537994),  # Concord\n",
        "    'new jersey': (40.220596, -74.769913),  # Trenton\n",
        "    'new mexico': (35.682240, -105.939728),  # Santa Fe\n",
        "    'new york': (42.652843, -73.757874),  # Albany\n",
        "    'north carolina': (35.780430, -78.639099),  # Raleigh\n",
        "    'north dakota': (46.820850, -100.783318),  # Bismarck\n",
        "    'ohio': (39.961346, -82.999069),  # Columbus\n",
        "    'oklahoma': (35.492207, -97.503342),  # Oklahoma City\n",
        "    'oregon': (44.938461, -123.030403),  # Salem\n",
        "    'pennsylvania': (40.264378, -76.883598),  # Harrisburg\n",
        "    'rhode island': (41.830914, -71.414963),  # Providence\n",
        "    'south carolina': (34.000343, -81.033211),  # Columbia\n",
        "    'south dakota': (44.367031, -100.346405),  # Pierre\n",
        "    'tennessee': (36.162663, -86.781601),  # Nashville\n",
        "    'texas': (30.274665, -97.740349),  # Austin\n",
        "    'utah': (40.777477, -111.888237),  # Salt Lake City\n",
        "    'vermont': (44.262436, -72.580536),  # Montpelier\n",
        "    'virginia': (37.538857, -77.433640),  # Richmond\n",
        "    'washington': (47.035805, -122.905014),  # Olympia\n",
        "    'west virginia': (38.336246, -81.612328),  # Charleston\n",
        "    'wisconsin': (43.074684, -89.384445),  # Madison\n",
        "    'wyoming': (41.140259, -104.820236)   # Cheyenne\n",
        "}\n",
        "\n",
        "\n"
      ],
      "metadata": {
        "id": "8uaxq9MkDauS"
      },
      "execution_count": 3,
      "outputs": []
    },
    {
      "cell_type": "markdown",
      "source": [
        "# Getting the Current Weather of the User's State Input & Categorizing:"
      ],
      "metadata": {
        "id": "E7RqxfieDrrn"
      }
    },
    {
      "cell_type": "markdown",
      "source": [
        "# Taking the weather catgeory and producing a playlist of Songs with spotify API"
      ],
      "metadata": {
        "id": "UHBE6H2nH3Zm"
      }
    },
    {
      "cell_type": "code",
      "source": [
        "!pip install spotipy\n"
      ],
      "metadata": {
        "colab": {
          "base_uri": "https://localhost:8080/"
        },
        "id": "wxIUzVTiUA3i",
        "outputId": "ae2b7508-89b9-49f4-9dc9-41010203629c"
      },
      "execution_count": 4,
      "outputs": [
        {
          "output_type": "stream",
          "name": "stdout",
          "text": [
            "Collecting spotipy\n",
            "  Downloading spotipy-2.24.0-py3-none-any.whl.metadata (4.9 kB)\n",
            "Collecting redis>=3.5.3 (from spotipy)\n",
            "  Downloading redis-5.0.8-py3-none-any.whl.metadata (9.2 kB)\n",
            "Requirement already satisfied: requests>=2.25.0 in /usr/local/lib/python3.10/dist-packages (from spotipy) (2.32.3)\n",
            "Requirement already satisfied: urllib3>=1.26.0 in /usr/local/lib/python3.10/dist-packages (from spotipy) (2.0.7)\n",
            "Requirement already satisfied: async-timeout>=4.0.3 in /usr/local/lib/python3.10/dist-packages (from redis>=3.5.3->spotipy) (4.0.3)\n",
            "Requirement already satisfied: charset-normalizer<4,>=2 in /usr/local/lib/python3.10/dist-packages (from requests>=2.25.0->spotipy) (3.3.2)\n",
            "Requirement already satisfied: idna<4,>=2.5 in /usr/local/lib/python3.10/dist-packages (from requests>=2.25.0->spotipy) (3.8)\n",
            "Requirement already satisfied: certifi>=2017.4.17 in /usr/local/lib/python3.10/dist-packages (from requests>=2.25.0->spotipy) (2024.8.30)\n",
            "Downloading spotipy-2.24.0-py3-none-any.whl (30 kB)\n",
            "Downloading redis-5.0.8-py3-none-any.whl (255 kB)\n",
            "\u001b[2K   \u001b[90m━━━━━━━━━━━━━━━━━━━━━━━━━━━━━━━━━━━━━━━━\u001b[0m \u001b[32m255.6/255.6 kB\u001b[0m \u001b[31m4.1 MB/s\u001b[0m eta \u001b[36m0:00:00\u001b[0m\n",
            "\u001b[?25hInstalling collected packages: redis, spotipy\n",
            "Successfully installed redis-5.0.8 spotipy-2.24.0\n"
          ]
        }
      ]
    },
    {
      "cell_type": "code",
      "source": [
        "import spotipy #import the Spotify library in order to work with Spotify API\n",
        "from spotipy.oauth2 import SpotifyClientCredentials #import the user credentials for authorisation\n",
        "\n",
        "client_id = SPOTIFY_CLIENT_ID\n",
        "client_secret = SPOTIFY_CLIENT_SECRET\n",
        "\n",
        "\n",
        "client_credentials_manager = SpotifyClientCredentials(client_id=client_id, client_secret=client_secret)\n",
        "sp = spotipy.Spotify(client_credentials_manager=client_credentials_manager)"
      ],
      "metadata": {
        "id": "vPO6qBWSLob7"
      },
      "execution_count": 5,
      "outputs": []
    },
    {
      "cell_type": "code",
      "source": [
        "# function to get music recommendations based on weather category\n",
        "# define a function to categorize the temperature\n",
        "def categorize_temperature(temp_celsius):\n",
        "    \"\"\"\n",
        "    Categorizes the temperature in degrees Celsius into different weather conditions.\n",
        "    \"\"\"\n",
        "    if temp_celsius <= 0:\n",
        "        return 'very cold'\n",
        "    elif 0 < temp_celsius <= 10:\n",
        "        return 'cold'\n",
        "    elif 10 < temp_celsius <= 20:\n",
        "        return 'neutral'\n",
        "    elif 20 < temp_celsius <= 30:\n",
        "        return 'warm'\n",
        "    else:\n",
        "        return 'hot'\n",
        "# define a function to get the current weather for a given location (limited our program to a state in the US)\n",
        "def get_current_weather(state, WEATHER_API_KEY):\n",
        "    \"\"\"\n",
        "    Retrieves the current weather for the given state and categorizes the temperature.\n",
        "    \"\"\"\n",
        "    global current_temperature\n",
        "\n",
        "\n",
        "    # if user gives a wrong input, show nothing\n",
        "    if state not in state_coords:\n",
        "        return None\n",
        "\n",
        "    url = 'https://api.tomorrow.io/v4/timelines' #send the API endpoint\n",
        "    params = {\n",
        "        'location': f\"{state_coords[state][0]},{state_coords[state][1]}\",\n",
        "        'fields': 'temperature',\n",
        "        'timesteps': 'current',\n",
        "        'units': 'metric',\n",
        "        'apikey': WEATHER_API_KEY\n",
        "    }\n",
        "\n",
        "    #create a HTTP get request to the API\n",
        "    response = requests.get(url, params=params)\n",
        "\n",
        "    if response.status_code == 200:\n",
        "        #parse Json data from the response\n",
        "        data = response.json()\n",
        "        # extract temperature from the response\n",
        "        current_temperature = data['data']['timelines'][0]['intervals'][0]['values']['temperature']\n",
        "        # categorize the temperature\n",
        "        category = categorize_temperature(current_temperature)\n",
        "        return category\n",
        "    else:\n",
        "        #show a message in case an error occurs\n",
        "        return f\"Failed to retrieve weather data. Status code: {response.status_code}\"\n",
        "\n",
        "\n",
        "def get_music_recommendation(weather_category, sp):\n",
        "    \"\"\"\n",
        "    Fetches music recommendations from Spotify based on weather category of the current location.\n",
        "    \"\"\"\n",
        "    # mapping the music genres to the weather categories)\n",
        "    genre_mapping = {\n",
        "        'very cold': 'chill',\n",
        "        'cold': 'chill',\n",
        "        'neutral': 'acoustic',\n",
        "        'warm': 'happy',\n",
        "        'hot': 'party'\n",
        "    }\n",
        "    #set a default \"classical\" genre in case no category was found\n",
        "    genre = genre_mapping.get(weather_category, 'classical')\n",
        "\n",
        "    # fetch recommendations from Spotify\n",
        "    results = sp.recommendations(seed_genres=[genre], limit=10)\n",
        "    for track in results['tracks']:\n",
        "        #print the name of the track and artist\n",
        "        print(track['name'], '-', track['artists'][0]['name'])\n",
        "\n",
        "\n",
        "\n",
        "# replace with your Spotify client object\n",
        "import spotipy\n",
        "from spotipy.oauth2 import SpotifyClientCredentials\n",
        "\n",
        "#initialize the Spotify client with user credentials\n",
        "sp = spotipy.Spotify(auth_manager=SpotifyClientCredentials(SPOTIFY_CLIENT_ID, SPOTIFY_CLIENT_SECRET))\n",
        "\n",
        "# validate the user input to check whether a correct state name was given\n",
        "while True:\n",
        "    state = input(\"Enter the name of the state in the US: \").strip().lower()\n",
        "\n",
        "    if state in state_coords:\n",
        "        # get weather category for the user inputted state\n",
        "        weather_category = get_current_weather(state, WEATHER_API_KEY)\n",
        "\n",
        "        #print the weather information of the given state\n",
        "        if weather_category:\n",
        "            print(f\"The current temperature in {state} is {current_temperature} degrees celsius which is considered {weather_category}.\")\n",
        "\n",
        "            # get music recommendations based on weather category of the location\n",
        "            get_music_recommendation(weather_category, sp)\n",
        "            break\n",
        "        else:\n",
        "            print(f\"Failed to retrieve weather data for {state}. Please try again.\")\n",
        "    else:\n",
        "        print(f\"'{state}' is not a valid U.S. state. Please enter a valid state.\")\n",
        "\n"
      ],
      "metadata": {
        "id": "DhFVLiLiOHA6",
        "colab": {
          "base_uri": "https://localhost:8080/"
        },
        "outputId": "f7068359-d0eb-4be4-f212-bda3289419ab"
      },
      "execution_count": 6,
      "outputs": [
        {
          "output_type": "stream",
          "name": "stdout",
          "text": [
            "Enter the name of the state in the US: New Yorj\n",
            "'new yorj' is not a valid U.S. state. Please enter a valid state.\n",
            "Enter the name of the state in the US: New york\n",
            "The current temperature in new york is 16.88 degrees celsius which is considered neutral.\n",
            "Your Body Is a Wonderland - Live at the Oak Mountain Amphitheater, Birmingham, AL - September 2002 - John Mayer\n",
            "Gangnam Style - Jayesslee\n",
            "Orange Sky - Alexi Murdoch\n",
            "Feel the Same - Joshua James\n",
            "Only You - Joshua Radin\n",
            "Tainted Love - Stella Starlight Trio\n",
            "You Need Me, I Don't Need You - Live Ustream - Ed Sheeran\n",
            "Perfect - Fairground Attraction\n",
            "Just Breathe - Pearl Jam\n",
            "Teardrop - José González\n"
          ]
        }
      ]
    }
  ]
}